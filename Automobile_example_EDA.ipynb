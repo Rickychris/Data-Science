{
  "nbformat": 4,
  "nbformat_minor": 0,
  "metadata": {
    "celltoolbar": "Raw Cell Format",
    "kernelspec": {
      "display_name": "Python 3",
      "language": "python",
      "name": "python3"
    },
    "language_info": {
      "codemirror_mode": {
        "name": "ipython",
        "version": 3
      },
      "file_extension": ".py",
      "mimetype": "text/x-python",
      "name": "python",
      "nbconvert_exporter": "python",
      "pygments_lexer": "ipython3",
      "version": "3.7.0"
    },
    "colab": {
      "name": "Copy of Copy of EDA",
      "provenance": [],
      "include_colab_link": true
    }
  },
  "cells": [
    {
      "cell_type": "markdown",
      "metadata": {
        "id": "view-in-github",
        "colab_type": "text"
      },
      "source": [
        "<a href=\"https://colab.research.google.com/github/Rickychris/Data-Science/blob/main/Automobile_example_EDA.ipynb\" target=\"_parent\"><img src=\"https://colab.research.google.com/assets/colab-badge.svg\" alt=\"Open In Colab\"/></a>"
      ]
    },
    {
      "cell_type": "markdown",
      "metadata": {
        "id": "0hr1JcINDKIj"
      },
      "source": [
        "# Exploratory Data Analysis"
      ]
    },
    {
      "cell_type": "markdown",
      "metadata": {
        "id": "BfW7Y-qgDKIk"
      },
      "source": [
        "## Automobile Dataset"
      ]
    },
    {
      "cell_type": "markdown",
      "metadata": {
        "id": "rxal0usmDKIl"
      },
      "source": [
        "### Problem Statement :\n",
        "\n",
        "This dataset consist of data From 1985 Ward's Automotive Yearbook. It consists of three types of entities:\n",
        "- The specification of an auto in terms of various characteristics\n",
        "- Its assigned insurance risk rating \n",
        "- Its normalized losses in use as compared to other cars.\n",
        "\n",
        "\n",
        "\n",
        "### About the DataSet :\n",
        "\n",
        "Below are the features in the dataset and their description\n",
        "\n",
        "|Features|Description|\n",
        "|-----|-----|\n",
        "|symboling|It is a risk factor symbol associated to the price & corresponds to the degree to which an automobile is more risky than its price indicates. +3 indicates risky, -3 indicates safety|\n",
        "|make|Indicates the maker or manufacturer of the automobile|\n",
        "|fuel-type|Indicates the type of fuel - diesel or gas|\n",
        "|body-style|Indicates whether the body shape of automobile is a hardtop, wagon, sedan, hatchback or convertible|\n",
        "|drive-wheels|Indicates the configuration of drive wheels for the automobile|\n",
        "|wheel-base|It is the distance between the centers of the front wheel and the rear wheel. It is continuous ranging from 86.6 120.9|\n",
        "|length|Indicates length of the automobile and ranges from 141.1 to 208.1.|\n",
        "|width|Indicates width of the automobile and ranges from 60.3 to 72.3|\n",
        "|height|Indicates the width of the automobile and ranges 47.8 to 59.8|\n",
        "|horsepower|Maximum horsepower the automobile engine can output and ranges from 48 to 288|\n",
        "|peak-rpm|RPM is a way to measure how many times per minute components in the engine rotate. It ranges from 4150 to 6600|\n",
        "|highway-mpg|Indicates the miles per galon typically consumed at highways. It is continuous from 4150 to 6600|\n",
        "|city-mpg|Indicates the miles per galon typically consumed at cities. It is continuous from 13 to 49|\n",
        "|price|Indicates the price of the automobile and ranges from 5118 to 45400|\n",
        "|normalized-losses|It is a continuous variable ranging from 65 to 256|\n",
        "|engine-location|Indicates the location of the engine - front or rear|\n",
        "|engine-type|Indicates the type of engine.|\n",
        "|engine-size|It is continuous from 61 to 326|"
      ]
    },
    {
      "cell_type": "markdown",
      "metadata": {
        "id": "UzZJvr94DKIm"
      },
      "source": [
        "### Load and understand your data\n",
        "- The data consists of 205 instances and 14 features"
      ]
    },
    {
      "cell_type": "code",
      "metadata": {
        "id": "EtGA39ygDKIm"
      },
      "source": [
        "import pandas as pd\n",
        "import numpy as np\n",
        "import seaborn as sns\n",
        "# from sklearn.preprocessing import Imputer,LabelEncoder\n",
        "from scipy.stats import norm, skew\n",
        "import matplotlib.pyplot as plt\n",
        "import warnings\n",
        "warnings.filterwarnings(\"ignore\")"
      ],
      "execution_count": null,
      "outputs": []
    },
    {
      "cell_type": "code",
      "metadata": {
        "id": "7q6cf6Z-DKIq",
        "colab": {
          "base_uri": "https://localhost:8080/",
          "height": 320
        },
        "outputId": "10e58b2a-ae28-4097-8a56-a5bafe17237f"
      },
      "source": [
        "df = pd.read_csv('Automobile_data.csv')\n",
        "df.head()"
      ],
      "execution_count": null,
      "outputs": [
        {
          "output_type": "execute_result",
          "data": {
            "text/html": [
              "\n",
              "  <div id=\"df-24c3d525-4078-4a34-8b79-d3e84a9f8e2e\">\n",
              "    <div class=\"colab-df-container\">\n",
              "      <div>\n",
              "<style scoped>\n",
              "    .dataframe tbody tr th:only-of-type {\n",
              "        vertical-align: middle;\n",
              "    }\n",
              "\n",
              "    .dataframe tbody tr th {\n",
              "        vertical-align: top;\n",
              "    }\n",
              "\n",
              "    .dataframe thead th {\n",
              "        text-align: right;\n",
              "    }\n",
              "</style>\n",
              "<table border=\"1\" class=\"dataframe\">\n",
              "  <thead>\n",
              "    <tr style=\"text-align: right;\">\n",
              "      <th></th>\n",
              "      <th>symboling</th>\n",
              "      <th>normalized-losses</th>\n",
              "      <th>make</th>\n",
              "      <th>fuel-type</th>\n",
              "      <th>body-style</th>\n",
              "      <th>drive-wheels</th>\n",
              "      <th>engine-location</th>\n",
              "      <th>width</th>\n",
              "      <th>height</th>\n",
              "      <th>engine-type</th>\n",
              "      <th>engine-size</th>\n",
              "      <th>horsepower</th>\n",
              "      <th>city-mpg</th>\n",
              "      <th>highway-mpg</th>\n",
              "      <th>price</th>\n",
              "    </tr>\n",
              "  </thead>\n",
              "  <tbody>\n",
              "    <tr>\n",
              "      <th>0</th>\n",
              "      <td>3</td>\n",
              "      <td>?</td>\n",
              "      <td>alfa-romero</td>\n",
              "      <td>gas</td>\n",
              "      <td>convertible</td>\n",
              "      <td>rwd</td>\n",
              "      <td>front</td>\n",
              "      <td>64.1</td>\n",
              "      <td>48.8</td>\n",
              "      <td>dohc</td>\n",
              "      <td>130</td>\n",
              "      <td>111</td>\n",
              "      <td>21</td>\n",
              "      <td>27</td>\n",
              "      <td>13495</td>\n",
              "    </tr>\n",
              "    <tr>\n",
              "      <th>1</th>\n",
              "      <td>3</td>\n",
              "      <td>?</td>\n",
              "      <td>alfa-romero</td>\n",
              "      <td>gas</td>\n",
              "      <td>convertible</td>\n",
              "      <td>rwd</td>\n",
              "      <td>front</td>\n",
              "      <td>64.1</td>\n",
              "      <td>48.8</td>\n",
              "      <td>dohc</td>\n",
              "      <td>130</td>\n",
              "      <td>111</td>\n",
              "      <td>21</td>\n",
              "      <td>27</td>\n",
              "      <td>16500</td>\n",
              "    </tr>\n",
              "    <tr>\n",
              "      <th>2</th>\n",
              "      <td>1</td>\n",
              "      <td>?</td>\n",
              "      <td>alfa-romero</td>\n",
              "      <td>gas</td>\n",
              "      <td>hatchback</td>\n",
              "      <td>rwd</td>\n",
              "      <td>front</td>\n",
              "      <td>65.5</td>\n",
              "      <td>52.4</td>\n",
              "      <td>ohcv</td>\n",
              "      <td>152</td>\n",
              "      <td>154</td>\n",
              "      <td>19</td>\n",
              "      <td>26</td>\n",
              "      <td>16500</td>\n",
              "    </tr>\n",
              "    <tr>\n",
              "      <th>3</th>\n",
              "      <td>2</td>\n",
              "      <td>164</td>\n",
              "      <td>audi</td>\n",
              "      <td>gas</td>\n",
              "      <td>sedan</td>\n",
              "      <td>fwd</td>\n",
              "      <td>front</td>\n",
              "      <td>66.2</td>\n",
              "      <td>54.3</td>\n",
              "      <td>ohc</td>\n",
              "      <td>109</td>\n",
              "      <td>102</td>\n",
              "      <td>24</td>\n",
              "      <td>30</td>\n",
              "      <td>13950</td>\n",
              "    </tr>\n",
              "    <tr>\n",
              "      <th>4</th>\n",
              "      <td>2</td>\n",
              "      <td>164</td>\n",
              "      <td>audi</td>\n",
              "      <td>gas</td>\n",
              "      <td>sedan</td>\n",
              "      <td>4wd</td>\n",
              "      <td>front</td>\n",
              "      <td>66.4</td>\n",
              "      <td>54.3</td>\n",
              "      <td>ohc</td>\n",
              "      <td>136</td>\n",
              "      <td>115</td>\n",
              "      <td>18</td>\n",
              "      <td>22</td>\n",
              "      <td>17450</td>\n",
              "    </tr>\n",
              "  </tbody>\n",
              "</table>\n",
              "</div>\n",
              "      <button class=\"colab-df-convert\" onclick=\"convertToInteractive('df-24c3d525-4078-4a34-8b79-d3e84a9f8e2e')\"\n",
              "              title=\"Convert this dataframe to an interactive table.\"\n",
              "              style=\"display:none;\">\n",
              "        \n",
              "  <svg xmlns=\"http://www.w3.org/2000/svg\" height=\"24px\"viewBox=\"0 0 24 24\"\n",
              "       width=\"24px\">\n",
              "    <path d=\"M0 0h24v24H0V0z\" fill=\"none\"/>\n",
              "    <path d=\"M18.56 5.44l.94 2.06.94-2.06 2.06-.94-2.06-.94-.94-2.06-.94 2.06-2.06.94zm-11 1L8.5 8.5l.94-2.06 2.06-.94-2.06-.94L8.5 2.5l-.94 2.06-2.06.94zm10 10l.94 2.06.94-2.06 2.06-.94-2.06-.94-.94-2.06-.94 2.06-2.06.94z\"/><path d=\"M17.41 7.96l-1.37-1.37c-.4-.4-.92-.59-1.43-.59-.52 0-1.04.2-1.43.59L10.3 9.45l-7.72 7.72c-.78.78-.78 2.05 0 2.83L4 21.41c.39.39.9.59 1.41.59.51 0 1.02-.2 1.41-.59l7.78-7.78 2.81-2.81c.8-.78.8-2.07 0-2.86zM5.41 20L4 18.59l7.72-7.72 1.47 1.35L5.41 20z\"/>\n",
              "  </svg>\n",
              "      </button>\n",
              "      \n",
              "  <style>\n",
              "    .colab-df-container {\n",
              "      display:flex;\n",
              "      flex-wrap:wrap;\n",
              "      gap: 12px;\n",
              "    }\n",
              "\n",
              "    .colab-df-convert {\n",
              "      background-color: #E8F0FE;\n",
              "      border: none;\n",
              "      border-radius: 50%;\n",
              "      cursor: pointer;\n",
              "      display: none;\n",
              "      fill: #1967D2;\n",
              "      height: 32px;\n",
              "      padding: 0 0 0 0;\n",
              "      width: 32px;\n",
              "    }\n",
              "\n",
              "    .colab-df-convert:hover {\n",
              "      background-color: #E2EBFA;\n",
              "      box-shadow: 0px 1px 2px rgba(60, 64, 67, 0.3), 0px 1px 3px 1px rgba(60, 64, 67, 0.15);\n",
              "      fill: #174EA6;\n",
              "    }\n",
              "\n",
              "    [theme=dark] .colab-df-convert {\n",
              "      background-color: #3B4455;\n",
              "      fill: #D2E3FC;\n",
              "    }\n",
              "\n",
              "    [theme=dark] .colab-df-convert:hover {\n",
              "      background-color: #434B5C;\n",
              "      box-shadow: 0px 1px 3px 1px rgba(0, 0, 0, 0.15);\n",
              "      filter: drop-shadow(0px 1px 2px rgba(0, 0, 0, 0.3));\n",
              "      fill: #FFFFFF;\n",
              "    }\n",
              "  </style>\n",
              "\n",
              "      <script>\n",
              "        const buttonEl =\n",
              "          document.querySelector('#df-24c3d525-4078-4a34-8b79-d3e84a9f8e2e button.colab-df-convert');\n",
              "        buttonEl.style.display =\n",
              "          google.colab.kernel.accessAllowed ? 'block' : 'none';\n",
              "\n",
              "        async function convertToInteractive(key) {\n",
              "          const element = document.querySelector('#df-24c3d525-4078-4a34-8b79-d3e84a9f8e2e');\n",
              "          const dataTable =\n",
              "            await google.colab.kernel.invokeFunction('convertToInteractive',\n",
              "                                                     [key], {});\n",
              "          if (!dataTable) return;\n",
              "\n",
              "          const docLinkHtml = 'Like what you see? Visit the ' +\n",
              "            '<a target=\"_blank\" href=https://colab.research.google.com/notebooks/data_table.ipynb>data table notebook</a>'\n",
              "            + ' to learn more about interactive tables.';\n",
              "          element.innerHTML = '';\n",
              "          dataTable['output_type'] = 'display_data';\n",
              "          await google.colab.output.renderOutput(dataTable, element);\n",
              "          const docLink = document.createElement('div');\n",
              "          docLink.innerHTML = docLinkHtml;\n",
              "          element.appendChild(docLink);\n",
              "        }\n",
              "      </script>\n",
              "    </div>\n",
              "  </div>\n",
              "  "
            ],
            "text/plain": [
              "   symboling normalized-losses         make  ... city-mpg highway-mpg  price\n",
              "0          3                 ?  alfa-romero  ...       21          27  13495\n",
              "1          3                 ?  alfa-romero  ...       21          27  16500\n",
              "2          1                 ?  alfa-romero  ...       19          26  16500\n",
              "3          2               164         audi  ...       24          30  13950\n",
              "4          2               164         audi  ...       18          22  17450\n",
              "\n",
              "[5 rows x 15 columns]"
            ]
          },
          "metadata": {},
          "execution_count": 2
        }
      ]
    },
    {
      "cell_type": "markdown",
      "metadata": {
        "id": "m6okuL1oDKIt"
      },
      "source": [
        "### Check the number of null values in each column get a general description of your data"
      ]
    },
    {
      "cell_type": "code",
      "metadata": {
        "id": "fh74_hMQDKIu",
        "colab": {
          "base_uri": "https://localhost:8080/",
          "height": 671
        },
        "outputId": "fb1a74e3-c762-4cd9-c7d0-b110b23ac9a3"
      },
      "source": [
        "df.info()\n",
        "df.describe()"
      ],
      "execution_count": null,
      "outputs": [
        {
          "output_type": "stream",
          "text": [
            "<class 'pandas.core.frame.DataFrame'>\n",
            "RangeIndex: 205 entries, 0 to 204\n",
            "Data columns (total 15 columns):\n",
            " #   Column             Non-Null Count  Dtype  \n",
            "---  ------             --------------  -----  \n",
            " 0   symboling          205 non-null    int64  \n",
            " 1   normalized-losses  205 non-null    object \n",
            " 2   make               205 non-null    object \n",
            " 3   fuel-type          205 non-null    object \n",
            " 4   body-style         205 non-null    object \n",
            " 5   drive-wheels       205 non-null    object \n",
            " 6   engine-location    205 non-null    object \n",
            " 7   width              205 non-null    float64\n",
            " 8   height             205 non-null    float64\n",
            " 9   engine-type        205 non-null    object \n",
            " 10  engine-size        205 non-null    int64  \n",
            " 11  horsepower         205 non-null    object \n",
            " 12  city-mpg           205 non-null    int64  \n",
            " 13  highway-mpg        205 non-null    int64  \n",
            " 14  price              205 non-null    int64  \n",
            "dtypes: float64(2), int64(5), object(8)\n",
            "memory usage: 24.1+ KB\n"
          ],
          "name": "stdout"
        },
        {
          "output_type": "execute_result",
          "data": {
            "text/html": [
              "<div>\n",
              "<style scoped>\n",
              "    .dataframe tbody tr th:only-of-type {\n",
              "        vertical-align: middle;\n",
              "    }\n",
              "\n",
              "    .dataframe tbody tr th {\n",
              "        vertical-align: top;\n",
              "    }\n",
              "\n",
              "    .dataframe thead th {\n",
              "        text-align: right;\n",
              "    }\n",
              "</style>\n",
              "<table border=\"1\" class=\"dataframe\">\n",
              "  <thead>\n",
              "    <tr style=\"text-align: right;\">\n",
              "      <th></th>\n",
              "      <th>symboling</th>\n",
              "      <th>width</th>\n",
              "      <th>height</th>\n",
              "      <th>engine-size</th>\n",
              "      <th>city-mpg</th>\n",
              "      <th>highway-mpg</th>\n",
              "      <th>price</th>\n",
              "    </tr>\n",
              "  </thead>\n",
              "  <tbody>\n",
              "    <tr>\n",
              "      <th>count</th>\n",
              "      <td>205.000000</td>\n",
              "      <td>205.000000</td>\n",
              "      <td>205.000000</td>\n",
              "      <td>205.000000</td>\n",
              "      <td>205.000000</td>\n",
              "      <td>205.000000</td>\n",
              "      <td>205.000000</td>\n",
              "    </tr>\n",
              "    <tr>\n",
              "      <th>mean</th>\n",
              "      <td>0.834146</td>\n",
              "      <td>65.907805</td>\n",
              "      <td>53.724878</td>\n",
              "      <td>126.907317</td>\n",
              "      <td>25.219512</td>\n",
              "      <td>30.751220</td>\n",
              "      <td>13227.478049</td>\n",
              "    </tr>\n",
              "    <tr>\n",
              "      <th>std</th>\n",
              "      <td>1.245307</td>\n",
              "      <td>2.145204</td>\n",
              "      <td>2.443522</td>\n",
              "      <td>41.642693</td>\n",
              "      <td>6.542142</td>\n",
              "      <td>6.886443</td>\n",
              "      <td>7902.651615</td>\n",
              "    </tr>\n",
              "    <tr>\n",
              "      <th>min</th>\n",
              "      <td>-2.000000</td>\n",
              "      <td>60.300000</td>\n",
              "      <td>47.800000</td>\n",
              "      <td>61.000000</td>\n",
              "      <td>13.000000</td>\n",
              "      <td>16.000000</td>\n",
              "      <td>5118.000000</td>\n",
              "    </tr>\n",
              "    <tr>\n",
              "      <th>25%</th>\n",
              "      <td>0.000000</td>\n",
              "      <td>64.100000</td>\n",
              "      <td>52.000000</td>\n",
              "      <td>97.000000</td>\n",
              "      <td>19.000000</td>\n",
              "      <td>25.000000</td>\n",
              "      <td>7788.000000</td>\n",
              "    </tr>\n",
              "    <tr>\n",
              "      <th>50%</th>\n",
              "      <td>1.000000</td>\n",
              "      <td>65.500000</td>\n",
              "      <td>54.100000</td>\n",
              "      <td>120.000000</td>\n",
              "      <td>24.000000</td>\n",
              "      <td>30.000000</td>\n",
              "      <td>10345.000000</td>\n",
              "    </tr>\n",
              "    <tr>\n",
              "      <th>75%</th>\n",
              "      <td>2.000000</td>\n",
              "      <td>66.900000</td>\n",
              "      <td>55.500000</td>\n",
              "      <td>141.000000</td>\n",
              "      <td>30.000000</td>\n",
              "      <td>34.000000</td>\n",
              "      <td>16500.000000</td>\n",
              "    </tr>\n",
              "    <tr>\n",
              "      <th>max</th>\n",
              "      <td>3.000000</td>\n",
              "      <td>72.300000</td>\n",
              "      <td>59.800000</td>\n",
              "      <td>326.000000</td>\n",
              "      <td>49.000000</td>\n",
              "      <td>54.000000</td>\n",
              "      <td>45400.000000</td>\n",
              "    </tr>\n",
              "  </tbody>\n",
              "</table>\n",
              "</div>"
            ],
            "text/plain": [
              "        symboling       width  ...  highway-mpg         price\n",
              "count  205.000000  205.000000  ...   205.000000    205.000000\n",
              "mean     0.834146   65.907805  ...    30.751220  13227.478049\n",
              "std      1.245307    2.145204  ...     6.886443   7902.651615\n",
              "min     -2.000000   60.300000  ...    16.000000   5118.000000\n",
              "25%      0.000000   64.100000  ...    25.000000   7788.000000\n",
              "50%      1.000000   65.500000  ...    30.000000  10345.000000\n",
              "75%      2.000000   66.900000  ...    34.000000  16500.000000\n",
              "max      3.000000   72.300000  ...    54.000000  45400.000000\n",
              "\n",
              "[8 rows x 7 columns]"
            ]
          },
          "metadata": {
            "tags": []
          },
          "execution_count": 12
        }
      ]
    },
    {
      "cell_type": "markdown",
      "metadata": {
        "id": "Yv_4fwVhDKIx"
      },
      "source": [
        "- There are no null values in each column.\n",
        "- The `.describe()` function outputs 8 numbers for each column in the dataset. \n",
        "    - The first value 'count' shows how many rows have non-missing values\n",
        "    - The second value is the mean, which is the average. \n",
        "    - std is the standard deviation, which measures how numerically spread out the values are.\n",
        "    - For all the below values the data should be arranged in ascending order first.\n",
        "        - min and max represent the minimum and maximum values in that column\n",
        "        - The value 50% represents the median in every column.\n",
        "        - 25% represents the value which lies above the 25% of the values in the data.\n",
        "        - 75% represents the value which lies above the 75% of the values in the data."
      ]
    },
    {
      "cell_type": "markdown",
      "metadata": {
        "id": "1ValITNcDKIx"
      },
      "source": [
        "### Plot a histogram showing the distribution of the car prices (target variable) and if any skewness, print the value of skewness"
      ]
    },
    {
      "cell_type": "code",
      "metadata": {
        "id": "IYQH2BBbDKIy",
        "colab": {
          "base_uri": "https://localhost:8080/",
          "height": 296
        },
        "outputId": "ad749222-dfe6-471f-a86e-54dd516ca509"
      },
      "source": [
        "sns.distplot(df['price'],kde=True)"
      ],
      "execution_count": null,
      "outputs": [
        {
          "output_type": "execute_result",
          "data": {
            "text/plain": [
              "<matplotlib.axes._subplots.AxesSubplot at 0x7f9835d9d0f0>"
            ]
          },
          "metadata": {
            "tags": []
          },
          "execution_count": 13
        },
        {
          "output_type": "display_data",
          "data": {
            "image/png": "[encoded data removed]",
            "text/plain": [
              "<Figure size 432x288 with 1 Axes>"
            ]
          },
          "metadata": {
            "tags": [],
            "needs_background": "light"
          }
        }
      ]
    },
    {
      "cell_type": "markdown",
      "metadata": {
        "id": "knANiN3yDKI0"
      },
      "source": [
        "- Try guessing the distribution of the target variable.\n",
        "- There exists a skewness towards the right."
      ]
    },
    {
      "cell_type": "code",
      "metadata": {
        "id": "48GEak61DKI1",
        "colab": {
          "base_uri": "https://localhost:8080/"
        },
        "outputId": "625c4c1d-ccd4-4dae-c556-9f4828690350"
      },
      "source": [
        "df['price'].skew()"
      ],
      "execution_count": null,
      "outputs": [
        {
          "output_type": "execute_result",
          "data": {
            "text/plain": [
              "1.8051729985694338"
            ]
          },
          "metadata": {
            "tags": []
          },
          "execution_count": 14
        }
      ]
    },
    {
      "cell_type": "markdown",
      "metadata": {
        "id": "g4ps7WfPDKI3"
      },
      "source": [
        "### Plot a countplot of the 'make' column of the dataset which represents the different car makers."
      ]
    },
    {
      "cell_type": "code",
      "metadata": {
        "id": "rebDHRyLDKI4",
        "colab": {
          "base_uri": "https://localhost:8080/",
          "height": 405
        },
        "outputId": "41e7631c-8369-48fb-8827-2af16471425c"
      },
      "source": [
        "plt.figure(figsize=(12,6))\n",
        "sns.countplot(y='make', data=df)"
      ],
      "execution_count": null,
      "outputs": [
        {
          "output_type": "execute_result",
          "data": {
            "text/plain": [
              "<matplotlib.axes._subplots.AxesSubplot at 0x7f9835217198>"
            ]
          },
          "metadata": {
            "tags": []
          },
          "execution_count": 15
        },
        {
          "output_type": "display_data",
          "data": {
            "image/png": "[encoded data removed]",
            "text/plain": [
              "<Figure size 864x432 with 1 Axes>"
            ]
          },
          "metadata": {
            "tags": [],
            "needs_background": "light"
          }
        }
      ]
    },
    {
      "cell_type": "markdown",
      "metadata": {
        "id": "Ju3sItgrDKI7"
      },
      "source": [
        "It can be seen that majority of the automobiles in the dataset are manufactured by toyota."
      ]
    },
    {
      "cell_type": "markdown",
      "metadata": {
        "id": "Kxe431AZDKI9"
      },
      "source": [
        "### Plot a jointplot that shows the relationship between the 'horsepower' and 'price' of the car."
      ]
    },
    {
      "cell_type": "code",
      "metadata": {
        "id": "2WT9BNttVBfF"
      },
      "source": [
        "corr"
      ],
      "execution_count": null,
      "outputs": []
    },
    {
      "cell_type": "code",
      "metadata": {
        "id": "xweVHxNnDKI9",
        "colab": {
          "base_uri": "https://localhost:8080/",
          "height": 458
        },
        "outputId": "c9b3921b-9323-47a7-a51a-909f4b5e401b"
      },
      "source": [
        "sns.jointplot('horsepower', 'price', data=df)"
      ],
      "execution_count": null,
      "outputs": [
        {
          "output_type": "execute_result",
          "data": {
            "text/plain": [
              "<seaborn.axisgrid.JointGrid at 0x7f982c1a95f8>"
            ]
          },
          "metadata": {
            "tags": []
          },
          "execution_count": 17
        },
        {
          "output_type": "display_data",
          "data": {
            "image/png": "[encoded data removed]",
            "text/plain": [
              "<Figure size 432x432 with 3 Axes>"
            ]
          },
          "metadata": {
            "tags": [],
            "needs_background": "light"
          }
        }
      ]
    },
    {
      "cell_type": "markdown",
      "metadata": {
        "id": "QgsmPNivDKI_"
      },
      "source": [
        "There is a linear relationship between the horsepower and price. More the horsepower, higher is the price of the car."
      ]
    },
    {
      "cell_type": "markdown",
      "metadata": {
        "id": "wnWTnNMmDKJA"
      },
      "source": [
        "### Plot the insurance risk ratings for all the automobiles"
      ]
    },
    {
      "cell_type": "code",
      "metadata": {
        "id": "Qwi6ZjlvDKJA",
        "outputId": "67943282-50fe-4e65-a1b4-f69a999d0b9e"
      },
      "source": [
        "df['symboling'].hist(bins=6)\n",
        "plt.ylabel('Number of vehicles')\n",
        "plt.xlabel('Risk rating');"
      ],
      "execution_count": null,
      "outputs": [
        {
          "output_type": "display_data",
          "data": {
            "image/png": "[encoded data removed]",
            "text/plain": [
              "<Figure size 432x288 with 1 Axes>"
            ]
          },
          "metadata": {
            "tags": [],
            "needs_background": "light"
          }
        }
      ]
    },
    {
      "cell_type": "markdown",
      "metadata": {
        "id": "dccbiiM6DKJC"
      },
      "source": [
        "It seems that majority of the automobiles have a risk rating of 0 and above. This indicates a good measure of safety."
      ]
    },
    {
      "cell_type": "markdown",
      "metadata": {
        "id": "9HzMSrr1DKJD"
      },
      "source": [
        "### Plot a pie chart of the fuel-type of the automobiles"
      ]
    },
    {
      "cell_type": "code",
      "metadata": {
        "id": "eFLMNnk9DKJD",
        "outputId": "8dd68b8c-dc36-4ba3-81cf-68b24194b2d2"
      },
      "source": [
        "df['fuel-type'].value_counts().plot.pie(figsize=(5,5),autopct='%.2f')\n",
        "plt.title('Fuel-Type diagram')"
      ],
      "execution_count": null,
      "outputs": [
        {
          "output_type": "execute_result",
          "data": {
            "text/plain": [
              "Text(0.5,1,'Fuel-Type diagram')"
            ]
          },
          "metadata": {
            "tags": []
          },
          "execution_count": 109
        },
        {
          "output_type": "display_data",
          "data": {
            "image/png": "[encoded data removed]",
            "text/plain": [
              "<Figure size 360x360 with 1 Axes>"
            ]
          },
          "metadata": {
            "tags": []
          }
        }
      ]
    },
    {
      "cell_type": "markdown",
      "metadata": {
        "id": "hBfHIkYFDKJG"
      },
      "source": [
        "- Looks like majority of the vehicles run on gas"
      ]
    },
    {
      "cell_type": "markdown",
      "metadata": {
        "id": "0Dr3XKXCDKJG"
      },
      "source": [
        "### Plot the pearson correlation of all the features in a heatmap."
      ]
    },
    {
      "cell_type": "code",
      "metadata": {
        "id": "Q4Y41vdnDKJG",
        "outputId": "f8c50a9a-0e18-48fd-9eef-14f240cac68c"
      },
      "source": [
        "plt.figure(figsize=(12,8))\n",
        "sns.heatmap(df.corr(), cmap='viridis',annot=True, fmt='.2f')"
      ],
      "execution_count": null,
      "outputs": [
        {
          "output_type": "execute_result",
          "data": {
            "text/plain": [
              "<matplotlib.axes._subplots.AxesSubplot at 0x2238e1003c8>"
            ]
          },
          "metadata": {
            "tags": []
          },
          "execution_count": 49
        },
        {
          "output_type": "display_data",
          "data": {
            "image/png": "[encoded data removed]",
            "text/plain": [
              "<Figure size 864x576 with 2 Axes>"
            ]
          },
          "metadata": {
            "tags": [],
            "needs_background": "light"
          }
        }
      ]
    },
    {
      "cell_type": "markdown",
      "metadata": {
        "id": "YqebUfMUDKJJ"
      },
      "source": [
        "The pearson correlation coefficients calculated above are only for continuous features. The color table index next to the heatmap shows the varying levels of correlation.\n",
        "\n",
        "A high negative correlation is denoted by darker shades and features having a high positive correlation are indicated by lighter shades"
      ]
    },
    {
      "cell_type": "markdown",
      "metadata": {
        "id": "ior-NbkmDKJJ"
      },
      "source": [
        "### Plot a boxplot that shows the variability of each 'body-style' with respect to the 'price'."
      ]
    },
    {
      "cell_type": "code",
      "metadata": {
        "id": "UIlHRiVZDKJK",
        "outputId": "d77c8ee5-2ff1-4f5d-8b4e-170bbfe50a40"
      },
      "source": [
        "plt.figure(figsize=(15,8))\n",
        "plt.xticks(rotation = 45)\n",
        "sns.boxplot('body-style', 'price', data=df)"
      ],
      "execution_count": null,
      "outputs": [
        {
          "output_type": "execute_result",
          "data": {
            "text/plain": [
              "<matplotlib.axes._subplots.AxesSubplot at 0x22390689278>"
            ]
          },
          "metadata": {
            "tags": []
          },
          "execution_count": 81
        },
        {
          "output_type": "display_data",
          "data": {
            "image/png": "[encoded data removed]",
            "text/plain": [
              "<Figure size 1080x576 with 1 Axes>"
            ]
          },
          "metadata": {
            "tags": [],
            "needs_background": "light"
          }
        }
      ]
    },
    {
      "cell_type": "markdown",
      "metadata": {
        "id": "aGuRSaZLDKJM"
      },
      "source": [
        "- The four boxes for every body type represent the interquartile ranges for each of them and the lines within every box represent the median.\n",
        "- The dotted points for hatchback, sedan and wagon are outliers."
      ]
    },
    {
      "cell_type": "markdown",
      "metadata": {
        "id": "WNo7bmsEDKJM"
      },
      "source": [
        "### Plot a boxplot showing the variablity in the 'price' for each 'make' of the car "
      ]
    },
    {
      "cell_type": "code",
      "metadata": {
        "id": "AoK93EtmDKJN",
        "outputId": "9309f4aa-acfc-4416-f0e4-8ab54ff65481"
      },
      "source": [
        "plt.rcParams['figure.figsize']=(25,15)\n",
        "sns.boxplot('make','price',data=df)"
      ],
      "execution_count": null,
      "outputs": [
        {
          "output_type": "execute_result",
          "data": {
            "text/plain": [
              "<matplotlib.axes._subplots.AxesSubplot at 0x22392c64208>"
            ]
          },
          "metadata": {
            "tags": []
          },
          "execution_count": 116
        },
        {
          "output_type": "display_data",
          "data": {
            "image/png": "[encoded data removed]",
            "text/plain": [
              "<Figure size 1800x1080 with 1 Axes>"
            ]
          },
          "metadata": {
            "tags": [],
            "needs_background": "light"
          }
        }
      ]
    },
    {
      "cell_type": "code",
      "metadata": {
        "id": "vbvKx2bfDKJO"
      },
      "source": [
        ""
      ],
      "execution_count": null,
      "outputs": []
    },
    {
      "cell_type": "code",
      "metadata": {
        "id": "0uxNkApQDKJQ"
      },
      "source": [
        ""
      ],
      "execution_count": null,
      "outputs": []
    },
    {
      "cell_type": "markdown",
      "metadata": {
        "id": "pDxqhijNDKJS"
      },
      "source": [
        "## Data Preprocessing"
      ]
    },
    {
      "cell_type": "code",
      "metadata": {
        "id": "OhR8y7jdDKJT",
        "outputId": "334946ab-ef25-441f-b602-d431269df4a2"
      },
      "source": [
        "df_1 = pd.read_csv('../data/Automobile_data.csv')\n",
        "df_1.head()"
      ],
      "execution_count": null,
      "outputs": [
        {
          "output_type": "execute_result",
          "data": {
            "text/html": [
              "<div>\n",
              "<style scoped>\n",
              "    .dataframe tbody tr th:only-of-type {\n",
              "        vertical-align: middle;\n",
              "    }\n",
              "\n",
              "    .dataframe tbody tr th {\n",
              "        vertical-align: top;\n",
              "    }\n",
              "\n",
              "    .dataframe thead th {\n",
              "        text-align: right;\n",
              "    }\n",
              "</style>\n",
              "<table border=\"1\" class=\"dataframe\">\n",
              "  <thead>\n",
              "    <tr style=\"text-align: right;\">\n",
              "      <th></th>\n",
              "      <th>symboling</th>\n",
              "      <th>normalized-losses</th>\n",
              "      <th>make</th>\n",
              "      <th>fuel-type</th>\n",
              "      <th>body-style</th>\n",
              "      <th>drive-wheels</th>\n",
              "      <th>engine-location</th>\n",
              "      <th>width</th>\n",
              "      <th>height</th>\n",
              "      <th>engine-type</th>\n",
              "      <th>engine-size</th>\n",
              "      <th>horsepower</th>\n",
              "      <th>city-mpg</th>\n",
              "      <th>highway-mpg</th>\n",
              "      <th>price</th>\n",
              "    </tr>\n",
              "  </thead>\n",
              "  <tbody>\n",
              "    <tr>\n",
              "      <th>0</th>\n",
              "      <td>3</td>\n",
              "      <td>?</td>\n",
              "      <td>alfa-romero</td>\n",
              "      <td>gas</td>\n",
              "      <td>convertible</td>\n",
              "      <td>rwd</td>\n",
              "      <td>front</td>\n",
              "      <td>64.1</td>\n",
              "      <td>48.8</td>\n",
              "      <td>dohc</td>\n",
              "      <td>130</td>\n",
              "      <td>111</td>\n",
              "      <td>21</td>\n",
              "      <td>27</td>\n",
              "      <td>13495</td>\n",
              "    </tr>\n",
              "    <tr>\n",
              "      <th>1</th>\n",
              "      <td>3</td>\n",
              "      <td>?</td>\n",
              "      <td>alfa-romero</td>\n",
              "      <td>gas</td>\n",
              "      <td>convertible</td>\n",
              "      <td>rwd</td>\n",
              "      <td>front</td>\n",
              "      <td>64.1</td>\n",
              "      <td>48.8</td>\n",
              "      <td>dohc</td>\n",
              "      <td>130</td>\n",
              "      <td>111</td>\n",
              "      <td>21</td>\n",
              "      <td>27</td>\n",
              "      <td>16500</td>\n",
              "    </tr>\n",
              "    <tr>\n",
              "      <th>2</th>\n",
              "      <td>1</td>\n",
              "      <td>?</td>\n",
              "      <td>alfa-romero</td>\n",
              "      <td>gas</td>\n",
              "      <td>hatchback</td>\n",
              "      <td>rwd</td>\n",
              "      <td>front</td>\n",
              "      <td>65.5</td>\n",
              "      <td>52.4</td>\n",
              "      <td>ohcv</td>\n",
              "      <td>152</td>\n",
              "      <td>154</td>\n",
              "      <td>19</td>\n",
              "      <td>26</td>\n",
              "      <td>16500</td>\n",
              "    </tr>\n",
              "    <tr>\n",
              "      <th>3</th>\n",
              "      <td>2</td>\n",
              "      <td>164</td>\n",
              "      <td>audi</td>\n",
              "      <td>gas</td>\n",
              "      <td>sedan</td>\n",
              "      <td>fwd</td>\n",
              "      <td>front</td>\n",
              "      <td>66.2</td>\n",
              "      <td>54.3</td>\n",
              "      <td>ohc</td>\n",
              "      <td>109</td>\n",
              "      <td>102</td>\n",
              "      <td>24</td>\n",
              "      <td>30</td>\n",
              "      <td>13950</td>\n",
              "    </tr>\n",
              "    <tr>\n",
              "      <th>4</th>\n",
              "      <td>2</td>\n",
              "      <td>164</td>\n",
              "      <td>audi</td>\n",
              "      <td>gas</td>\n",
              "      <td>sedan</td>\n",
              "      <td>4wd</td>\n",
              "      <td>front</td>\n",
              "      <td>66.4</td>\n",
              "      <td>54.3</td>\n",
              "      <td>ohc</td>\n",
              "      <td>136</td>\n",
              "      <td>115</td>\n",
              "      <td>18</td>\n",
              "      <td>22</td>\n",
              "      <td>17450</td>\n",
              "    </tr>\n",
              "  </tbody>\n",
              "</table>\n",
              "</div>"
            ],
            "text/plain": [
              "   symboling normalized-losses         make fuel-type   body-style  \\\n",
              "0          3                 ?  alfa-romero       gas  convertible   \n",
              "1          3                 ?  alfa-romero       gas  convertible   \n",
              "2          1                 ?  alfa-romero       gas    hatchback   \n",
              "3          2               164         audi       gas        sedan   \n",
              "4          2               164         audi       gas        sedan   \n",
              "\n",
              "  drive-wheels engine-location  width  height engine-type  engine-size  \\\n",
              "0          rwd           front   64.1    48.8        dohc          130   \n",
              "1          rwd           front   64.1    48.8        dohc          130   \n",
              "2          rwd           front   65.5    52.4        ohcv          152   \n",
              "3          fwd           front   66.2    54.3         ohc          109   \n",
              "4          4wd           front   66.4    54.3         ohc          136   \n",
              "\n",
              "  horsepower  city-mpg  highway-mpg  price  \n",
              "0        111        21           27  13495  \n",
              "1        111        21           27  16500  \n",
              "2        154        19           26  16500  \n",
              "3        102        24           30  13950  \n",
              "4        115        18           22  17450  "
            ]
          },
          "metadata": {
            "tags": []
          },
          "execution_count": 117
        }
      ]
    },
    {
      "cell_type": "markdown",
      "metadata": {
        "id": "cpOMXk1EDKJV"
      },
      "source": [
        "### Impute the missing values of the numerical data with mean of the particular column (Make sure you replace \"?\" by \"NaN\" before Imputing)."
      ]
    },
    {
      "cell_type": "code",
      "metadata": {
        "id": "hy4ZtoLaDKJV"
      },
      "source": [
        "#Replacing '?' by 'NaN' and then Imputing missing data in the columns 'normalized-losses','horsepower'\n",
        "df_1 = df_1.replace(\"?\",\"NaN\")\n",
        "numeric_imp = Imputer(missing_values=\"NaN\",strategy='mean',axis=0)\n",
        "df_1['normalized-losses'] = numeric_imp.fit_transform(df_1[['normalized-losses']])\n",
        "df_1['horsepower'] = numeric_imp.fit_transform(df_1[['horsepower']])"
      ],
      "execution_count": null,
      "outputs": []
    },
    {
      "cell_type": "markdown",
      "metadata": {
        "id": "4zw2sFcaDKJX"
      },
      "source": [
        "\n",
        "### Check the skewness of the numeric features and apply square root transformation on features with skewness greater than 1."
      ]
    },
    {
      "cell_type": "code",
      "metadata": {
        "id": "uKp3dE3qDKJX"
      },
      "source": [
        "numeric_feature_auto = df_1._get_numeric_data().columns\n",
        "for feature in numeric_feature_auto:\n",
        "    if skew(df_1[feature])>1:\n",
        "        df_1[feature] = np.sqrt(df_1[feature])"
      ],
      "execution_count": null,
      "outputs": []
    },
    {
      "cell_type": "markdown",
      "metadata": {
        "id": "NeVIk8-NDKJZ"
      },
      "source": [
        "\n",
        "###  Label Encode the categorical features.\n"
      ]
    },
    {
      "cell_type": "code",
      "metadata": {
        "id": "pcb-piBADKJZ"
      },
      "source": [
        "def dummyEncode(df_1):\n",
        "        columnsToEncode = list(df_1.select_dtypes(include=['category','object']))\n",
        "        le = LabelEncoder()\n",
        "        for feature in columnsToEncode:\n",
        "            try:\n",
        "                df_1[feature] = le.fit_transform(df_1[feature])\n",
        "            except:\n",
        "                print('Error encoding '+feature)\n",
        "        return df_1\n",
        "df_1 = dummyEncode(df_1)"
      ],
      "execution_count": null,
      "outputs": []
    },
    {
      "cell_type": "markdown",
      "metadata": {
        "id": "ICwaBVDbDKJb"
      },
      "source": [
        "### Combine the 'height' and 'width' to make a new feature 'area' of the frame of the car."
      ]
    },
    {
      "cell_type": "code",
      "metadata": {
        "id": "3NC_Ov8tDKJb"
      },
      "source": [
        "df_1['area'] = df_1['height'] * df_1['width']"
      ],
      "execution_count": null,
      "outputs": []
    },
    {
      "cell_type": "code",
      "metadata": {
        "id": "UiuRPWSkDKJd"
      },
      "source": [
        ""
      ],
      "execution_count": null,
      "outputs": []
    },
    {
      "cell_type": "code",
      "metadata": {
        "id": "8NqWVFfsDKJf"
      },
      "source": [
        ""
      ],
      "execution_count": null,
      "outputs": []
    }
  ]
}